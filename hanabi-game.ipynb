{
 "cells": [
  {
   "cell_type": "code",
   "execution_count": 14,
   "metadata": {
    "collapsed": false
   },
   "outputs": [],
   "source": [
    "from scipy import *\n",
    "seed(10027)\n",
    "cards_ordered = array([[num, color] for num in [1,1,1,2,2,3,3,4,4,5] for color in range(1,6)])\n",
    "order = range(50)\n",
    "shuffle(order)\n",
    "cards_init = cards_ordered [order]\n",
    "#print cards_init"
   ]
  },
  {
   "cell_type": "code",
   "execution_count": 26,
   "metadata": {
    "collapsed": false
   },
   "outputs": [
    {
     "name": "stdout",
     "output_type": "stream",
     "text": [
      "[]\n",
      "[]\n"
     ]
    }
   ],
   "source": [
    "class player:\n",
    "    def __init__(self, cards=None):\n",
    "        if cards != None:\n",
    "            self.data = cards\n",
    "            self.knowledge = zeros(shape=cards.shape)\n",
    "        else:\n",
    "            self.data = array([])\n",
    "            self.knowledge = array([])\n",
    "    def add (self, icard):\n",
    "        self.data = append(self.data, icard)\n",
    "    def rm (self, idx):\n",
    "        self.data = delete(self.data, idx)\n",
    "    def showcard (self):\n",
    "        return self.data\n",
    "    def showknowledge (self):\n",
    "        return self.knowledge\n",
    "    \n",
    "jia = player() #(cards_init[:4])\n",
    "print jia.showcard()\n",
    "print jia.showknowledge()"
   ]
  },
  {
   "cell_type": "code",
   "execution_count": null,
   "metadata": {
    "collapsed": true
   },
   "outputs": [],
   "source": []
  }
 ],
 "metadata": {
  "anaconda-cloud": {},
  "kernelspec": {
   "display_name": "Python [default]",
   "language": "python",
   "name": "python2"
  },
  "language_info": {
   "codemirror_mode": {
    "name": "ipython",
    "version": 2
   },
   "file_extension": ".py",
   "mimetype": "text/x-python",
   "name": "python",
   "nbconvert_exporter": "python",
   "pygments_lexer": "ipython2",
   "version": "2.7.12"
  }
 },
 "nbformat": 4,
 "nbformat_minor": 1
}
