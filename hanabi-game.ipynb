{
 "cells": [
  {
   "cell_type": "code",
   "execution_count": 14,
   "metadata": {
    "collapsed": false
   },
   "outputs": [],
   "source": [
    "#############################\n",
    "##### the hanabi game #######\n",
    "#############################\n",
    "\n",
    "### class: player, discard, played, leftover\n",
    "### action/decision: (1) give info (2) play card (3) discard\n",
    "\n",
    "from scipy import *\n",
    "seed(10027)\n",
    "cards_ordered = array([[num, color] for num in [1,1,1,2,2,3,3,4,4,5] for color in range(1,6)])\n",
    "order = range(50)\n",
    "shuffle(order)\n",
    "cards_init = cards_ordered [order]\n",
    "#print cards_init"
   ]
  },
  {
   "cell_type": "code",
   "execution_count": 58,
   "metadata": {
    "collapsed": false
   },
   "outputs": [],
   "source": [
    "class deck:\n",
    "    def __init__(self, cards=zeros(1)):\n",
    "        if cards.any():\n",
    "            self._data = cards\n",
    "            self._knowledge = zeros(shape=cards.shape)\n",
    "        else:\n",
    "            self._data = array([])\n",
    "            self._knowledge = array([])\n",
    "    def add (self, icard):\n",
    "        self._data = append(self._data, icard)\n",
    "    def rm (self, idx):\n",
    "        self._data = delete(self._data, idx, axis=0)\n",
    "    def showcard (self):\n",
    "        return self._data.reshape(-1,2)\n",
    "    def updateknowledge (self, idx, pos=0): ## pos 0 for num, pos 1 for color\n",
    "        self._knowledge[idx, pos] = 1\n",
    "    def showknowledge (self):\n",
    "        return self._knowledge\n",
    "    def match (self, icard):\n",
    "        return where((self._data.T[0] == icard[0]) & (self._data.T[1] == icard[1]))[0]\n",
    "    def ncard (self):\n",
    "        return len(self._data)\n",
    "    \n",
    "#jia = player() \n",
    "#jia = player(cards_init[:4])\n",
    "#print jia.showcard()\n",
    "#print jia.showknowledge()"
   ]
  },
  {
   "cell_type": "code",
   "execution_count": 59,
   "metadata": {
    "collapsed": false
   },
   "outputs": [],
   "source": [
    "###################################\n",
    "####### initialize the game #######\n",
    "###################################\n",
    "\n",
    "N = 4 # Number of players, each with N number of cards\n",
    "leftover = deck(cards_init)\n",
    "\n",
    "#print leftover.showcard()\n",
    "players = []\n",
    "for iN in range(N): ## initiate N class objects\n",
    "    newcard = leftover.showcard()[:N]\n",
    "    players.append (deck(newcard))\n",
    "    leftover.rm(range(N))\n",
    "#    print leftover.ncard(), iN, players[iN].showcard()"
   ]
  },
  {
   "cell_type": "code",
   "execution_count": 69,
   "metadata": {
    "collapsed": false
   },
   "outputs": [],
   "source": [
    "def reaction (played, discard, newcard, fuse):\n",
    "    '''for a new card, decide its destination play or discard'''\n",
    "    idx_match = played.match(newcard) ## find idx of the newcard in played pile\n",
    "    if sum(played.showknowledge()[idx_match]): ### discard if newcard already in played\n",
    "        discard.add(newcard)\n",
    "        fuse -= 1 ## penalty due to wrong card\n",
    "    else:\n",
    "        if newcard[0]==1: ## play, if this is a #1 card\n",
    "            played.updateknowledge(idx_match,pos=0)\n",
    "        else: ## check if the card before is played\n",
    "            idx_before = played.match(newcard-array([1,0]))\n",
    "            if played.showknowledge()[idx_before][0]:# play, the card before is played\n",
    "                played.updateknowledge(idx_match,pos=0)\n",
    "            else: ## discard if the card before is not played\n",
    "                discard.add(newcard)\n",
    "                fuse -= 1\n",
    "                                      \n",
    "discard = deck()           \n",
    "played = deck(array([[num, color] for num in range(1,6) for color in range(1,6)]))\n",
    "fuse = 4\n",
    "info = 8\n",
    "\n",
    "######### test: pass #######\n",
    "#print played.showknowledge()\n",
    "#inewcard=played.showcard()[0]\n",
    "#reaction(played,discard,inewcard)\n",
    "#print 'after reaction'\n",
    "#print 'discard',discard.showcard()\n",
    "#print played.showknowledge()\n",
    "\n",
    "#reaction(played,discard,inewcard)\n",
    "#print 'after reaction 2'\n",
    "#print 'discard 2',discard.showcard()\n",
    "#print played.showknowledge()"
   ]
  },
  {
   "cell_type": "code",
   "execution_count": null,
   "metadata": {
    "collapsed": true
   },
   "outputs": [],
   "source": [
    "###########################\n",
    "### make decisions ########\n",
    "###########################\n",
    "def decision (played, players, N_current, discard, info):\n",
    "    #### first, when there is no info point, discard\n",
    "    \n",
    "    #### if there are info, decide to play card or give info "
   ]
  },
  {
   "cell_type": "code",
   "execution_count": null,
   "metadata": {
    "collapsed": true
   },
   "outputs": [],
   "source": [
    "###########################\n",
    "### game starts ###########\n",
    "###########################\n",
    "\n",
    "discard = deck()           \n",
    "played = deck(array([[num, color] for num in range(1,6) for color in range(1,6)]))\n",
    "fuse = 4\n",
    "info = 8\n",
    "\n",
    "#while leftover.ncard() > 0 and fuse >0:"
   ]
  }
 ],
 "metadata": {
  "anaconda-cloud": {},
  "kernelspec": {
   "display_name": "Python [default]",
   "language": "python",
   "name": "python2"
  },
  "language_info": {
   "codemirror_mode": {
    "name": "ipython",
    "version": 2
   },
   "file_extension": ".py",
   "mimetype": "text/x-python",
   "name": "python",
   "nbconvert_exporter": "python",
   "pygments_lexer": "ipython2",
   "version": "2.7.12"
  }
 },
 "nbformat": 4,
 "nbformat_minor": 1
}
