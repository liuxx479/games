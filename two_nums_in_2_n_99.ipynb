{
 "cells": [
  {
   "cell_type": "code",
   "execution_count": 1,
   "metadata": {
    "collapsed": true
   },
   "outputs": [],
   "source": [
    "from scipy import *"
   ]
  },
  {
   "cell_type": "code",
   "execution_count": 84,
   "metadata": {
    "collapsed": true
   },
   "outputs": [],
   "source": [
    "# (1) A knows x+y\n",
    "# (2) B knows x*y\n",
    "# (3) x, y are both from [2,99], AND x!=y\n",
    "# (4) A doesn't know x, y, and knows that B doesn't know neither\n",
    "# (5) B then derived x, y\n",
    "# (6) A then derived x, y following B"
   ]
  },
  {
   "cell_type": "code",
   "execution_count": 90,
   "metadata": {
    "collapsed": false
   },
   "outputs": [
    {
     "name": "stdout",
     "output_type": "stream",
     "text": [
      "<100 primes: [2, 3, 5, 7, 11, 13, 17, 19, 23, 29, 31, 37, 41, 43, 47, 53, 59, 61, 67, 71, 73, 79, 83, 89, 97]\n"
     ]
    }
   ],
   "source": [
    "def findprimes(N):\n",
    "    '''print the primes between [2,N]'''\n",
    "    prime_list = [2,]\n",
    "    i = 2\n",
    "    while i<=N:\n",
    "        prime=1\n",
    "        for j in prime_list:\n",
    "            if i%j==0:\n",
    "                prime=0\n",
    "                break\n",
    "        if prime:\n",
    "            prime_list.append(i)\n",
    "        i+=1\n",
    "    return prime_list\n",
    "prime_list = findprimes(100)\n",
    "\n",
    "print '<100 primes:',prime_list"
   ]
  },
  {
   "cell_type": "code",
   "execution_count": 89,
   "metadata": {
    "collapsed": false
   },
   "outputs": [],
   "source": [
    "def prime_factors(N):\n",
    "    '''find the prime factors of N'''\n",
    "    possibile_primes = findprimes(N)\n",
    "    out_list = []\n",
    "    while N not in possibile_primes:\n",
    "        for i in possibile_primes:\n",
    "            if N%i==0:\n",
    "                out_list.append(i)\n",
    "                N/=i\n",
    "        if N==1:\n",
    "            return sort(out_list) \n",
    "    out_list.append(N)\n",
    "    return sort(out_list)\n",
    "\n",
    "##print prime_factors(99)"
   ]
  },
  {
   "cell_type": "code",
   "execution_count": 92,
   "metadata": {
    "collapsed": false
   },
   "outputs": [],
   "source": [
    "def check_allowed_sum (N):\n",
    "    '''\n",
    "    from (4): A doesn't know x, y, and knows that B doesn't know neither, therefore:\n",
    "    a) check for x, y=[n, N-n] for n in [2,..,N/2], that at most one of them is prime\n",
    "    b) check that product of the smallest and largest prime factors <= 99    \n",
    "    c) check the product of all but the largest prime factors <= 99\n",
    "    '''\n",
    "    for x in range(2, N/2+1):        \n",
    "        y = N-x\n",
    "        if x in prime_list and y in prime_list:\n",
    "            return False\n",
    "        sorted_primes = sort(concatenate([prime_factors(x), prime_factors(y)]))\n",
    "        #print N, x, y, sorted_primes\n",
    "        if sorted_primes[0]*sorted_primes[-1]>99: ## otherwise you can single out the largest prime\n",
    "            return False\n",
    "        elif product(sorted_primes[:-1])>99 and product(sorted_primes[1:-1])<=99: \n",
    "            ## otherwise you can single out the product of smallest & largest primes\n",
    "            return False\n",
    "    return True\n",
    "\n",
    "#print '40',check_sum_primes(40)\n",
    "#print '11',check_sum_primes(11)"
   ]
  },
  {
   "cell_type": "code",
   "execution_count": 109,
   "metadata": {
    "collapsed": false
   },
   "outputs": [
    {
     "name": "stdout",
     "output_type": "stream",
     "text": [
      "\n",
      "From (4): A doesn't know x, y, and knows that B doesn't know neither. \n",
      "with all possible x*y have at least 3 prime factors, \n",
      "and the product of the smallest*largest primes is <= 99\n",
      "and the product of all but the largest prime factors is <= 99\n",
      "\n",
      "So the possible sums (S=x+y) are: [11 17 23 27 29 35 37 41]\n",
      "\n",
      "From (5): B, who knows the product, then derived x, y.\n",
      "Therefore only one of the possible x+y can product this P=x*y.\n",
      "\n",
      "(5a) all P=x*y for each allowed S:\n",
      "11 [18 24 28 30]\n",
      "17 [30 42 52 60 66 70 72]\n",
      "23 [ 42  60  76  90 102 112 120 126 130 132]\n",
      "27 [ 50  72  92 110 126 140 152 162 170 176 180 182]\n",
      "29 [ 54  78 100 120 138 154 168 180 190 198 204 208 210]\n",
      "35 [ 66  96 124 150 174 196 216 234 250 264 276 286 294 300 304 306]\n",
      "37 [ 70 102 132 160 186 210 232 252 270 286 300 312 322 330 336 340 342]\n",
      "41 [ 78 114 148 180 210 238 264 288 310 330 348 364 378 390 400 408 414 418\n",
      " 420]\n",
      "\n",
      "(5b) unique P \n",
      "(only one S can match that P\n",
      "since sometimes the same P can produce >1 allowed S):\n",
      "[ 18  24  28  50  52  54  76  90  92  96 100 110 112 114 124 130 138 140\n",
      " 148 150 152 154 160 162 168 170 174 176 182 186 190 196 198 204 208 216\n",
      " 232 234 238 250 252 270 276 288 294 304 306 310 312 322 336 340 342 348\n",
      " 364 378 390 400 408 414 418 420]\n",
      "\n",
      "(5c) for each allowed S, the number of unique P\n",
      "11 [18 24 28]\n",
      "17 [52]\n",
      "FOUND!! Sum is 17, Product is 52\n",
      "23 [ 76  90 112 130]\n",
      "27 [ 50  92 110 140 152 162 170 176 182]\n",
      "29 [ 54 100 138 154 168 190 198 204 208]\n",
      "35 [ 96 124 150 174 196 216 234 250 276 294 304 306]\n",
      "37 [160 186 232 252 270 312 322 336 340 342]\n",
      "41 [114 148 238 288 310 348 364 378 390 400 408 414 418 420]\n",
      "\n",
      "x, y = 13, 4\n"
     ]
    }
   ],
   "source": [
    "Nsum=arange(6,99+98)\n",
    "all_pass = array([check_allowed_sum(iNsum) for iNsum in Nsum])\n",
    "sum3primes = Nsum[all_pass]\n",
    "print '''\n",
    "From (4): A doesn't know x, y, and knows that B doesn't know neither. \n",
    "with all possible x*y have at least 3 prime factors, \n",
    "and the product of the smallest*largest primes is <= 99\n",
    "and the product of all but the largest prime factors is <= 99\n",
    "\n",
    "So the possible sums (S=x+y) are:''', sum3primes\n",
    "\n",
    "check_products = lambda N: arange(2,N/2+1)*(N-arange(2,N/2+1))\n",
    "find_xy = lambda s, p: [0.5*(s+sqrt(s**2-4*p)), 0.5*(s-sqrt(s**2-4*p))]\n",
    "\n",
    "print '''\n",
    "From (5): B, who knows the product, then derived x, y.\n",
    "Therefore only one of the possible x+y can product this P=x*y.\n",
    "\n",
    "(5a) all P=x*y for each allowed S:'''\n",
    "possible_products = [check_products(iN) for iN in sum3primes]\n",
    "jjj = 0\n",
    "for ip in possible_products:\n",
    "    print sum3primes[jjj],ip\n",
    "    #print find_xy(sum3primes[jjj],ip).T\n",
    "    jjj+=1\n",
    "all_possible = concatenate(possible_products)\n",
    "\n",
    "uniqs = unique(all_possible)\n",
    "\n",
    "print '''\n",
    "(5b) unique P \n",
    "(only one S can match that P\n",
    "since sometimes the same P can produce >1 allowed S):'''\n",
    "counts = array([list(all_possible).count(iu) for iu in uniqs])\n",
    "#print counts\n",
    "singles = uniqs[where(counts==1)]\n",
    "print singles\n",
    "\n",
    "print '''\n",
    "(5c) for each allowed S, the number of unique P'''\n",
    "jjj = 0\n",
    "for ip in possible_products:\n",
    "    print sum3primes[jjj], intersect1d(ip, singles)\n",
    "    if len(intersect1d(ip, singles))==1:\n",
    "        S,P=sum3primes[jjj],intersect1d(ip, singles)\n",
    "        print 'FOUND!! Sum is %i, Product is %i'%(S, P)\n",
    "    jjj+=1\n",
    "\n",
    "x,y=find_xy(S,P)\n",
    "print '\\nx, y = %s, %s'%(int(x),int(y))"
   ]
  },
  {
   "cell_type": "code",
   "execution_count": null,
   "metadata": {
    "collapsed": true
   },
   "outputs": [],
   "source": []
  }
 ],
 "metadata": {
  "kernelspec": {
   "display_name": "Python [default]",
   "language": "python",
   "name": "python2"
  },
  "language_info": {
   "codemirror_mode": {
    "name": "ipython",
    "version": 2
   },
   "file_extension": ".py",
   "mimetype": "text/x-python",
   "name": "python",
   "nbconvert_exporter": "python",
   "pygments_lexer": "ipython2",
   "version": "2.7.12"
  }
 },
 "nbformat": 4,
 "nbformat_minor": 1
}
