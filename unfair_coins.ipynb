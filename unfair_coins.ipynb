{
  "nbformat": 4,
  "nbformat_minor": 0,
  "metadata": {
    "colab": {
      "name": "unfair_coins.ipynb",
      "provenance": [],
      "authorship_tag": "ABX9TyMQkMOkZ1UAMo4DIktmHEFT",
      "include_colab_link": true
    },
    "kernelspec": {
      "name": "python3",
      "display_name": "Python 3"
    }
  },
  "cells": [
    {
      "cell_type": "markdown",
      "metadata": {
        "id": "view-in-github",
        "colab_type": "text"
      },
      "source": [
        "<a href=\"https://colab.research.google.com/github/liuxx479/games/blob/master/unfair_coins.ipynb\" target=\"_parent\"><img src=\"https://colab.research.google.com/assets/colab-badge.svg\" alt=\"Open In Colab\"/></a>"
      ]
    },
    {
      "cell_type": "code",
      "metadata": {
        "id": "GmFHUDI_nBv4"
      },
      "source": [
        "import numpy as np\n",
        "from pylab import *\n",
        "%matplotlib inline"
      ],
      "execution_count": 1,
      "outputs": []
    },
    {
      "cell_type": "code",
      "metadata": {
        "id": "dcwh2VQ8nI-3"
      },
      "source": [
        "####### set up the coins\n",
        "\n",
        "coin1A=lambda: rand()<0.51\n",
        "coin1B=lambda: rand()<0.49\n",
        "\n",
        "coin2A=lambda: rand()<0.01\n",
        "coin2B=lambda: rand()<0.02"
      ],
      "execution_count": null,
      "outputs": []
    }
  ]
}